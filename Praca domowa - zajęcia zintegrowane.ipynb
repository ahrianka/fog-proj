{
  "metadata": {
    "kernelspec": {
      "name": "python",
      "display_name": "Python (Pyodide)",
      "language": "python"
    },
    "language_info": {
      "codemirror_mode": {
        "name": "python",
        "version": 3
      },
      "file_extension": ".py",
      "mimetype": "text/x-python",
      "name": "python",
      "nbconvert_exporter": "python",
      "pygments_lexer": "ipython3",
      "version": "3.8"
    }
  },
  "nbformat_minor": 4,
  "nbformat": 4,
  "cells": [
    {
      "cell_type": "code",
      "source": "import sympy as sp\nfrom sympy import Eq, solve, sqrt, pi, symbols",
      "metadata": {
        "trusted": true
      },
      "outputs": [],
      "execution_count": 76
    },
    {
      "cell_type": "code",
      "source": "sp.init_printing()",
      "metadata": {
        "trusted": true
      },
      "outputs": [],
      "execution_count": 77
    },
    {
      "cell_type": "code",
      "source": "x = sp.Symbol('x', real=True)\na = sp.Symbol('a', real=True)\nk = sp.Symbol('k', real=True, positive=True)\nh = sp.Symbol('hbar', real=True, positive=True)\nn = sp.Symbol('n', integer=True, nonzero=True)\nm = sp.Symbol('m', real=True, positive=True)\nt = sp.Symbol('t', real=True, positive=True)\n\npsi = sp.Function('psi')",
      "metadata": {
        "trusted": true
      },
      "outputs": [],
      "execution_count": 78
    },
    {
      "cell_type": "code",
      "source": "eq = sp.Eq(psi(x).diff(x, x), -k**2 * psi(x))\neq",
      "metadata": {
        "trusted": true,
        "scrolled": true
      },
      "outputs": [
        {
          "execution_count": 79,
          "output_type": "execute_result",
          "data": {
            "text/plain": "  2                 \n d            2     \n───(ψ(x)) = -k ⋅ψ(x)\n  2                 \ndx                  ",
            "text/latex": "$\\displaystyle \\frac{d^{2}}{d x^{2}} \\psi{\\left(x \\right)} = - k^{2} \\psi{\\left(x \\right)}$"
          },
          "metadata": {}
        }
      ],
      "execution_count": 79
    },
    {
      "cell_type": "code",
      "source": "sol = sp.dsolve(eq, psi(x))\nsol",
      "metadata": {
        "trusted": true
      },
      "outputs": [
        {
          "execution_count": 80,
          "output_type": "execute_result",
          "data": {
            "text/plain": "ψ(x) = C₁⋅sin(k⋅x) + C₂⋅cos(k⋅x)",
            "text/latex": "$\\displaystyle \\psi{\\left(x \\right)} = C_{1} \\sin{\\left(k x \\right)} + C_{2} \\cos{\\left(k x \\right)}$"
          },
          "metadata": {}
        }
      ],
      "execution_count": 80
    },
    {
      "cell_type": "code",
      "source": "sol = sp.dsolve(eq, psi(x), ics={psi(0): 0})\nsol",
      "metadata": {
        "trusted": true
      },
      "outputs": [
        {
          "execution_count": 81,
          "output_type": "execute_result",
          "data": {
            "text/plain": "ψ(x) = C₁⋅sin(k⋅x)",
            "text/latex": "$\\displaystyle \\psi{\\left(x \\right)} = C_{1} \\sin{\\left(k x \\right)}$"
          },
          "metadata": {}
        }
      ],
      "execution_count": 81
    },
    {
      "cell_type": "code",
      "source": "sol = sol.subs(k, n * sp.pi / a)\nsol",
      "metadata": {
        "trusted": true
      },
      "outputs": [
        {
          "execution_count": 82,
          "output_type": "execute_result",
          "data": {
            "text/plain": "             ⎛π⋅n⋅x⎞\nψ(x) = C₁⋅sin⎜─────⎟\n             ⎝  a  ⎠",
            "text/latex": "$\\displaystyle \\psi{\\left(x \\right)} = C_{1} \\sin{\\left(\\frac{\\pi n x}{a} \\right)}$"
          },
          "metadata": {}
        }
      ],
      "execution_count": 82
    },
    {
      "cell_type": "code",
      "source": "sol = sol.subs(sp.Symbol('C1'), sp.sqrt(2/a))\nsol",
      "metadata": {
        "trusted": true
      },
      "outputs": [
        {
          "execution_count": 94,
          "output_type": "execute_result",
          "data": {
            "text/plain": "              ___           \n             ╱ 1     ⎛π⋅n⋅x⎞\nψ(x) = √2⋅  ╱  ─ ⋅sin⎜─────⎟\n          ╲╱   a     ⎝  a  ⎠",
            "text/latex": "$\\displaystyle \\psi{\\left(x \\right)} = \\sqrt{2} \\sqrt{\\frac{1}{a}} \\sin{\\left(\\frac{\\pi n x}{a} \\right)}$"
          },
          "metadata": {}
        }
      ],
      "execution_count": 94
    },
    {
      "cell_type": "code",
      "source": "sol.rhs * x * sol.rhs",
      "metadata": {
        "trusted": true
      },
      "outputs": [
        {
          "execution_count": 84,
          "output_type": "execute_result",
          "data": {
            "text/plain": "       2⎛π⋅n⋅x⎞\n2⋅x⋅sin ⎜─────⎟\n        ⎝  a  ⎠\n───────────────\n       a       ",
            "text/latex": "$\\displaystyle \\frac{2 x \\sin^{2}{\\left(\\frac{\\pi n x}{a} \\right)}}{a}$"
          },
          "metadata": {}
        }
      ],
      "execution_count": 84
    },
    {
      "cell_type": "code",
      "source": "x_expectation = sp.integrate(sol.rhs * x * sol.rhs, (x, 0, a)).simplify()\nx_expectation",
      "metadata": {
        "trusted": true
      },
      "outputs": [
        {
          "execution_count": 85,
          "output_type": "execute_result",
          "data": {
            "text/plain": "a\n─\n2",
            "text/latex": "$\\displaystyle \\frac{a}{2}$"
          },
          "metadata": {}
        }
      ],
      "execution_count": 85
    },
    {
      "cell_type": "code",
      "source": "x_squared_expectation = sp.integrate(sol.rhs * x**2 * sol.rhs, (x, 0, a)).simplify()\nx_squared_expectation",
      "metadata": {
        "trusted": true
      },
      "outputs": [
        {
          "execution_count": 86,
          "output_type": "execute_result",
          "data": {
            "text/plain": " 2       2  \na       a   \n── - ───────\n3       2  2\n     2⋅π ⋅n ",
            "text/latex": "$\\displaystyle \\frac{a^{2}}{3} - \\frac{a^{2}}{2 \\pi^{2} n^{2}}$"
          },
          "metadata": {}
        }
      ],
      "execution_count": 86
    },
    {
      "cell_type": "code",
      "source": "p_expectation = sp.integrate(sol.rhs * sp.I * h * sol.rhs.diff(x), (x, 0, a)).simplify()\np_expectation",
      "metadata": {
        "trusted": true
      },
      "outputs": [
        {
          "execution_count": 87,
          "output_type": "execute_result",
          "data": {
            "text/plain": "0",
            "text/latex": "$\\displaystyle 0$"
          },
          "metadata": {}
        }
      ],
      "execution_count": 87
    },
    {
      "cell_type": "code",
      "source": "p_squared_expectation = sp.integrate(sol.rhs * (-h**2 * sol.rhs.diff(x, x)), (x, 0, a)).simplify()\np_squared_expectation",
      "metadata": {
        "trusted": true
      },
      "outputs": [
        {
          "execution_count": 88,
          "output_type": "execute_result",
          "data": {
            "text/plain": " 2  2  2\nπ ⋅h̅ ⋅n \n────────\n    2   \n   a    ",
            "text/latex": "$\\displaystyle \\frac{\\pi^{2} \\hbar^{2} n^{2}}{a^{2}}$"
          },
          "metadata": {}
        }
      ],
      "execution_count": 88
    },
    {
      "cell_type": "code",
      "source": "x = sp.sqrt(p_squared_expectation)\nx",
      "metadata": {
        "trusted": true
      },
      "outputs": [
        {
          "execution_count": 89,
          "output_type": "execute_result",
          "data": {
            "text/plain": "π⋅h̅⋅│n│\n───────\n  │a│  ",
            "text/latex": "$\\displaystyle \\frac{\\pi \\hbar \\left|{n}\\right|}{\\left|{a}\\right|}$"
          },
          "metadata": {}
        }
      ],
      "execution_count": 89
    },
    {
      "cell_type": "code",
      "source": "sigma_X = sp.sqrt(x_squared_expectation - x_expectation**2)\nsigma_X",
      "metadata": {
        "trusted": true
      },
      "outputs": [
        {
          "execution_count": 90,
          "output_type": "execute_result",
          "data": {
            "text/plain": "      ______________\n     ╱  2       2   \n    ╱  a       a    \n   ╱   ── - ─────── \n  ╱    12      2  2 \n╲╱          2⋅π ⋅n  ",
            "text/latex": "$\\displaystyle \\sqrt{\\frac{a^{2}}{12} - \\frac{a^{2}}{2 \\pi^{2} n^{2}}}$"
          },
          "metadata": {}
        }
      ],
      "execution_count": 90
    },
    {
      "cell_type": "code",
      "source": "sigma_P = sp.sqrt(p_squared_expectation - p_expectation**2)\nsigma_P",
      "metadata": {
        "trusted": true
      },
      "outputs": [
        {
          "execution_count": 91,
          "output_type": "execute_result",
          "data": {
            "text/plain": "π⋅h̅⋅│n│\n───────\n  │a│  ",
            "text/latex": "$\\displaystyle \\frac{\\pi \\hbar \\left|{n}\\right|}{\\left|{a}\\right|}$"
          },
          "metadata": {}
        }
      ],
      "execution_count": 91
    },
    {
      "cell_type": "code",
      "source": "heisenberg_inequality = (sigma_X * sigma_P >= h / 2).simplify()\nheisenberg_inequality",
      "metadata": {
        "trusted": true
      },
      "outputs": [
        {
          "execution_count": 92,
          "output_type": "execute_result",
          "data": {
            "text/plain": "         ______________\n        ╱    2  2      \nh̅   h̅⋅╲╱  3⋅π ⋅n  - 18 \n─ ≤ ───────────────────\n2            6         ",
            "text/latex": "$\\displaystyle \\frac{\\hbar}{2} \\leq \\frac{\\hbar \\sqrt{3 \\pi^{2} n^{2} - 18}}{6}$"
          },
          "metadata": {}
        }
      ],
      "execution_count": 92
    },
    {
      "cell_type": "code",
      "source": "n = symbols('n')\ninequality = Eq(h * 1/2, h * sqrt(3 * (pi**2) * (n**2) - 18) / 6)\nresult = solve(inequality, n)\nresult",
      "metadata": {
        "trusted": true
      },
      "outputs": [
        {
          "execution_count": 93,
          "output_type": "execute_result",
          "data": {
            "text/plain": "⎡-3   3⎤\n⎢───, ─⎥\n⎣ π   π⎦",
            "text/latex": "$\\displaystyle \\left[ - \\frac{3}{\\pi}, \\  \\frac{3}{\\pi}\\right]$"
          },
          "metadata": {}
        }
      ],
      "execution_count": 93
    }
  ]
}